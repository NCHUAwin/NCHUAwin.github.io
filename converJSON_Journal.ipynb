{
 "cells": [
  {
   "cell_type": "code",
   "execution_count": 1,
   "metadata": {},
   "outputs": [],
   "source": [
    "import pandas as pd\n",
    "import json"
   ]
  },
  {
   "cell_type": "code",
   "execution_count": 2,
   "metadata": {},
   "outputs": [
    {
     "data": {
      "application/vnd.microsoft.datawrangler.viewer.v0+json": {
       "columns": [
        {
         "name": "index",
         "rawType": "int64",
         "type": "integer"
        },
        {
         "name": "時間戳記",
         "rawType": "object",
         "type": "string"
        },
        {
         "name": "1. 論文標題 Title\n(範例：A convolutional autoencoder-based approach with batch normalization for energy disaggregation)",
         "rawType": "object",
         "type": "string"
        },
        {
         "name": "2. 作者 Authors\n(範例：Huan Chen, Yue-Hsien Wang, Chun-Hung Fan)",
         "rawType": "object",
         "type": "string"
        },
        {
         "name": "3. 收錄期刊名稱 Journal\n(範例：The Journal of Supercomputing)",
         "rawType": "object",
         "type": "string"
        },
        {
         "name": "4. 冊別 volume, 期數 volume number\n(範例：vol.1, no.77)",
         "rawType": "object",
         "type": "string"
        },
        {
         "name": "5. 頁數 page number\n(範例：pp.2961--2968)",
         "rawType": "object",
         "type": "string"
        },
        {
         "name": "6. 發表年份 year\n(範例：2021)",
         "rawType": "int64",
         "type": "integer"
        },
        {
         "name": "7. DOI 連結\n(範例：https://doi.org/10.1007/s11227-020-03375-y)",
         "rawType": "object",
         "type": "string"
        },
        {
         "name": "8. Tag 標籤\n(範例：represent)",
         "rawType": "object",
         "type": "string"
        }
       ],
       "conversionMethod": "pd.DataFrame",
       "ref": "b9c9987b-bb14-4e4e-b648-fff344c55844",
       "rows": [
        [
         "0",
         "2025/4/22 上午 8:49:14",
         "Dynamic call admission control scheme for QoS priority handoff in multimedia cellular systems",
         "Huan Chen, Sunil Kumar, C-CJ Kuo",
         "IEEE Wireless Communications and Networking Conference Record. WCNC 2002 (Cat. No.02TH8609)",
         "vol.1",
         "pp.114--118",
         "2002",
         "https://doi.org/10.1109/WCNC.2002.993474",
         null
        ],
        [
         "1",
         "2025/4/22 上午 9:01:04",
         "Energy Residue Aware (ERA) Clustering Algorithm for Leach-based Wireless Sensor Networks",
         "Huan Chen, Cheng-Shong Wu, Yuan-Sun Chu, Chih-Chuan Cheng, Li-Kuang Tsai",
         "Second International Conference on Systems and Networks Communications (ICSNC 2007)",
         null,
         "pp.40--40",
         "2007",
         "https://doi.org/10.1109/ICSNC.2007.34",
         "conference"
        ],
        [
         "2",
         "2025/4/22 上午 9:02:52",
         "Automated Zebrafish Spine Scoring System Based on Instance Segmentation",
         "Wen-Hsin Chen, Tien-Ying Kuo, Yu-Jen Wei, Cheng-Jung Ho, Ming-Der Lin, Huan Chen, Wen-Ying Lin",
         "IEEE Access",
         "vol.13",
         "pp.18814--18826",
         "2025",
         "https://doi.org/10.1109/ACCESS.2025.3532680",
         null
        ],
        [
         "3",
         "2025/4/22 上午 9:04:08",
         "An Accurate and Robust Matching Network for Full/Partial Point Cloud Registration",
         "Chang, Min-Kuan and Yang, Chi-Sheng and Chang, Yu-Fang and Chen, Huan and Wu, Kuo-Guan",
         "IEEE 48th Annual Computers, Software, and Applications Conference (COMPSAC)",
         null,
         "pp.2272--2277",
         "2024",
         "https://doi.org/10.1109/COMPSAC61105.2024.00365",
         "conference"
        ],
        [
         "4",
         "2025/4/22 上午 9:05:42",
         "A differential privacy-preserving federated learning scheme with predictive maintenance of wind turbines based on deep learning for feature compression and anomaly detection with state assessment",
         "Huan Chen, Hsin-Yao Hsu, Jia-You Hsieh & Hsiang-En Hung ",
         " Journal of Mechanical Science and Technology",
         "vol.38",
         "pp. 3413--3429",
         "2024",
         "https://doi.org/10.1007/s12206-024-0616-9",
         null
        ]
       ],
       "shape": {
        "columns": 9,
        "rows": 5
       }
      },
      "text/html": [
       "<div>\n",
       "<style scoped>\n",
       "    .dataframe tbody tr th:only-of-type {\n",
       "        vertical-align: middle;\n",
       "    }\n",
       "\n",
       "    .dataframe tbody tr th {\n",
       "        vertical-align: top;\n",
       "    }\n",
       "\n",
       "    .dataframe thead th {\n",
       "        text-align: right;\n",
       "    }\n",
       "</style>\n",
       "<table border=\"1\" class=\"dataframe\">\n",
       "  <thead>\n",
       "    <tr style=\"text-align: right;\">\n",
       "      <th></th>\n",
       "      <th>時間戳記</th>\n",
       "      <th>1. 論文標題 Title\\n(範例：A convolutional autoencoder-based approach with batch normalization for energy disaggregation)</th>\n",
       "      <th>2. 作者 Authors\\n(範例：Huan Chen, Yue-Hsien Wang, Chun-Hung Fan)</th>\n",
       "      <th>3. 收錄期刊名稱 Journal\\n(範例：The Journal of Supercomputing)</th>\n",
       "      <th>4. 冊別 volume, 期數 volume number\\n(範例：vol.1, no.77)</th>\n",
       "      <th>5. 頁數 page number\\n(範例：pp.2961--2968)</th>\n",
       "      <th>6. 發表年份 year\\n(範例：2021)</th>\n",
       "      <th>7. DOI 連結\\n(範例：https://doi.org/10.1007/s11227-020-03375-y)</th>\n",
       "      <th>8. Tag 標籤\\n(範例：represent)</th>\n",
       "    </tr>\n",
       "  </thead>\n",
       "  <tbody>\n",
       "    <tr>\n",
       "      <th>0</th>\n",
       "      <td>2025/4/22 上午 8:49:14</td>\n",
       "      <td>Dynamic call admission control scheme for QoS ...</td>\n",
       "      <td>Huan Chen, Sunil Kumar, C-CJ Kuo</td>\n",
       "      <td>IEEE Wireless Communications and Networking Co...</td>\n",
       "      <td>vol.1</td>\n",
       "      <td>pp.114--118</td>\n",
       "      <td>2002</td>\n",
       "      <td>https://doi.org/10.1109/WCNC.2002.993474</td>\n",
       "      <td>NaN</td>\n",
       "    </tr>\n",
       "    <tr>\n",
       "      <th>1</th>\n",
       "      <td>2025/4/22 上午 9:01:04</td>\n",
       "      <td>Energy Residue Aware (ERA) Clustering Algorith...</td>\n",
       "      <td>Huan Chen, Cheng-Shong Wu, Yuan-Sun Chu, Chih-...</td>\n",
       "      <td>Second International Conference on Systems and...</td>\n",
       "      <td>NaN</td>\n",
       "      <td>pp.40--40</td>\n",
       "      <td>2007</td>\n",
       "      <td>https://doi.org/10.1109/ICSNC.2007.34</td>\n",
       "      <td>conference</td>\n",
       "    </tr>\n",
       "    <tr>\n",
       "      <th>2</th>\n",
       "      <td>2025/4/22 上午 9:02:52</td>\n",
       "      <td>Automated Zebrafish Spine Scoring System Based...</td>\n",
       "      <td>Wen-Hsin Chen, Tien-Ying Kuo, Yu-Jen Wei, Chen...</td>\n",
       "      <td>IEEE Access</td>\n",
       "      <td>vol.13</td>\n",
       "      <td>pp.18814--18826</td>\n",
       "      <td>2025</td>\n",
       "      <td>https://doi.org/10.1109/ACCESS.2025.3532680</td>\n",
       "      <td>NaN</td>\n",
       "    </tr>\n",
       "    <tr>\n",
       "      <th>3</th>\n",
       "      <td>2025/4/22 上午 9:04:08</td>\n",
       "      <td>An Accurate and Robust Matching Network for Fu...</td>\n",
       "      <td>Chang, Min-Kuan and Yang, Chi-Sheng and Chang,...</td>\n",
       "      <td>IEEE 48th Annual Computers, Software, and Appl...</td>\n",
       "      <td>NaN</td>\n",
       "      <td>pp.2272--2277</td>\n",
       "      <td>2024</td>\n",
       "      <td>https://doi.org/10.1109/COMPSAC61105.2024.00365</td>\n",
       "      <td>conference</td>\n",
       "    </tr>\n",
       "    <tr>\n",
       "      <th>4</th>\n",
       "      <td>2025/4/22 上午 9:05:42</td>\n",
       "      <td>A differential privacy-preserving federated le...</td>\n",
       "      <td>Huan Chen, Hsin-Yao Hsu, Jia-You Hsieh &amp; Hsian...</td>\n",
       "      <td>Journal of Mechanical Science and Technology</td>\n",
       "      <td>vol.38</td>\n",
       "      <td>pp. 3413--3429</td>\n",
       "      <td>2024</td>\n",
       "      <td>https://doi.org/10.1007/s12206-024-0616-9</td>\n",
       "      <td>NaN</td>\n",
       "    </tr>\n",
       "  </tbody>\n",
       "</table>\n",
       "</div>"
      ],
      "text/plain": [
       "                   時間戳記  \\\n",
       "0  2025/4/22 上午 8:49:14   \n",
       "1  2025/4/22 上午 9:01:04   \n",
       "2  2025/4/22 上午 9:02:52   \n",
       "3  2025/4/22 上午 9:04:08   \n",
       "4  2025/4/22 上午 9:05:42   \n",
       "\n",
       "  1. 論文標題 Title\\n(範例：A convolutional autoencoder-based approach with batch normalization for energy disaggregation)  \\\n",
       "0  Dynamic call admission control scheme for QoS ...                                                                  \n",
       "1  Energy Residue Aware (ERA) Clustering Algorith...                                                                  \n",
       "2  Automated Zebrafish Spine Scoring System Based...                                                                  \n",
       "3  An Accurate and Robust Matching Network for Fu...                                                                  \n",
       "4  A differential privacy-preserving federated le...                                                                  \n",
       "\n",
       "  2. 作者 Authors\\n(範例：Huan Chen, Yue-Hsien Wang, Chun-Hung Fan)  \\\n",
       "0                   Huan Chen, Sunil Kumar, C-CJ Kuo             \n",
       "1  Huan Chen, Cheng-Shong Wu, Yuan-Sun Chu, Chih-...             \n",
       "2  Wen-Hsin Chen, Tien-Ying Kuo, Yu-Jen Wei, Chen...             \n",
       "3  Chang, Min-Kuan and Yang, Chi-Sheng and Chang,...             \n",
       "4  Huan Chen, Hsin-Yao Hsu, Jia-You Hsieh & Hsian...             \n",
       "\n",
       "  3. 收錄期刊名稱 Journal\\n(範例：The Journal of Supercomputing)  \\\n",
       "0  IEEE Wireless Communications and Networking Co...      \n",
       "1  Second International Conference on Systems and...      \n",
       "2                                        IEEE Access      \n",
       "3  IEEE 48th Annual Computers, Software, and Appl...      \n",
       "4       Journal of Mechanical Science and Technology      \n",
       "\n",
       "  4. 冊別 volume, 期數 volume number\\n(範例：vol.1, no.77)  \\\n",
       "0                                             vol.1   \n",
       "1                                               NaN   \n",
       "2                                            vol.13   \n",
       "3                                               NaN   \n",
       "4                                            vol.38   \n",
       "\n",
       "  5. 頁數 page number\\n(範例：pp.2961--2968)  6. 發表年份 year\\n(範例：2021)  \\\n",
       "0                           pp.114--118                     2002   \n",
       "1                             pp.40--40                     2007   \n",
       "2                       pp.18814--18826                     2025   \n",
       "3                         pp.2272--2277                     2024   \n",
       "4                        pp. 3413--3429                     2024   \n",
       "\n",
       "  7. DOI 連結\\n(範例：https://doi.org/10.1007/s11227-020-03375-y)  \\\n",
       "0           https://doi.org/10.1109/WCNC.2002.993474           \n",
       "1              https://doi.org/10.1109/ICSNC.2007.34           \n",
       "2        https://doi.org/10.1109/ACCESS.2025.3532680           \n",
       "3    https://doi.org/10.1109/COMPSAC61105.2024.00365           \n",
       "4          https://doi.org/10.1007/s12206-024-0616-9           \n",
       "\n",
       "  8. Tag 標籤\\n(範例：represent)  \n",
       "0                       NaN  \n",
       "1                conference  \n",
       "2                       NaN  \n",
       "3                conference  \n",
       "4                       NaN  "
      ]
     },
     "execution_count": 2,
     "metadata": {},
     "output_type": "execute_result"
    }
   ],
   "source": [
    "# Load the CSV file\n",
    "csv_file_path = \"assets/data/Journal Responses.csv\"  # Update with correct path\n",
    "df_csv = pd.read_csv(csv_file_path)\n",
    "\n",
    "# Display the first few rows to understand its structure\n",
    "df_csv.head()"
   ]
  },
  {
   "cell_type": "code",
   "execution_count": 3,
   "metadata": {},
   "outputs": [
    {
     "data": {
      "text/plain": [
       "Index(['時間戳記',\n",
       "       '1. 論文標題 Title\\n(範例：A convolutional autoencoder-based approach with batch normalization for energy disaggregation)',\n",
       "       '2. 作者 Authors\\n(範例：Huan Chen, Yue-Hsien Wang, Chun-Hung Fan)',\n",
       "       '3. 收錄期刊名稱 Journal\\n(範例：The Journal of Supercomputing)',\n",
       "       '4. 冊別 volume, 期數 volume number\\n(範例：vol.1, no.77)',\n",
       "       '5. 頁數 page number\\n(範例：pp.2961--2968)', '6. 發表年份 year\\n(範例：2021)',\n",
       "       '7. DOI 連結\\n(範例：https://doi.org/10.1007/s11227-020-03375-y)',\n",
       "       '8. Tag 標籤\\n(範例：represent)'],\n",
       "      dtype='object')"
      ]
     },
     "execution_count": 3,
     "metadata": {},
     "output_type": "execute_result"
    }
   ],
   "source": [
    "df_csv.columns"
   ]
  },
  {
   "cell_type": "code",
   "execution_count": 4,
   "metadata": {},
   "outputs": [],
   "source": [
    "# Rename columns if necessary (Ensure they match the JSON keys)\n",
    "df = df_csv.rename(columns={\n",
    "    \"時間戳記\": \"timestamp\",\n",
    "    \"1. 論文標題 Title\\n(範例：A convolutional autoencoder-based approach with batch normalization for energy disaggregation)\": \"title\",\n",
    "    \"2. 作者 Authors\\n(範例：Huan Chen, Yue-Hsien Wang, Chun-Hung Fan)\": \"authors\",\n",
    "    \"3. 收錄期刊名稱 Journal\\n(範例：The Journal of Supercomputing)\": \"journal\",\n",
    "    \"4. 冊別 volume, 期數 volume number\\n(範例：vol.1, no.77)\": \"volume\",\n",
    "    \"5. 頁數 page number\\n(範例：pp.2961--2968)\": \"page\",\n",
    "    \"6. 發表年份 year\\n(範例：2021)\": \"year\",\n",
    "    \"7. DOI 連結\\n(範例：https://doi.org/10.1007/s11227-020-03375-y)\": \"doi\",\n",
    "    \"8. Tag 標籤\\n(範例：represent)\": \"tag\"\n",
    "})\n",
    "\n",
    "# Fill NaN values with empty string for string fields\n",
    "string_fields = [\"title\", \"authors\", \"journal\", \"volume\", \"page\", \"year\", \"doi\", \"tag\"]\n",
    "\n",
    "df[string_fields] = df[string_fields].fillna(\"\")\n",
    "\n",
    "# Process 'keyword' field: split by comma and strip spaces, keep empty list if no data\n",
    "df[\"tag\"] = df[\"tag\"].apply(lambda x: [kw.strip() for kw in str(x).split(\",\") if kw.strip()] if pd.notna(x) else [])"
   ]
  },
  {
   "cell_type": "code",
   "execution_count": 5,
   "metadata": {},
   "outputs": [
    {
     "name": "stdout",
     "output_type": "stream",
     "text": [
      "JSON file exported successfully as assets/data/journal_list.json\n"
     ]
    }
   ],
   "source": [
    "# Convert DataFrame to a list of dictionaries\n",
    "json_data = df.to_dict(orient=\"records\")\n",
    "\n",
    "# Remove empty fields dynamically from each entry\n",
    "cleaned_json_data = [{k: v for k, v in entry.items() if v not in [\"NaN\", None]} for entry in json_data]\n",
    "\n",
    "# Sort the JSON output by 'grade' in descending order\n",
    "sorted_json_data = sorted(cleaned_json_data, key=lambda x: x[\"year\"], reverse=True)\n",
    "\n",
    "# Export to JSON file\n",
    "output_file = \"assets/data/journal_list.json\"\n",
    "with open(output_file, \"w\", encoding=\"utf-8\") as file:\n",
    "    json.dump(sorted_json_data, file, ensure_ascii=False, indent=2)\n",
    "\n",
    "print(f\"JSON file exported successfully as {output_file}\")"
   ]
  },
  {
   "cell_type": "code",
   "execution_count": null,
   "metadata": {},
   "outputs": [],
   "source": []
  },
  {
   "cell_type": "code",
   "execution_count": null,
   "metadata": {},
   "outputs": [],
   "source": []
  }
 ],
 "metadata": {
  "kernelspec": {
   "display_name": "datsci",
   "language": "python",
   "name": "python3"
  },
  "language_info": {
   "codemirror_mode": {
    "name": "ipython",
    "version": 3
   },
   "file_extension": ".py",
   "mimetype": "text/x-python",
   "name": "python",
   "nbconvert_exporter": "python",
   "pygments_lexer": "ipython3",
   "version": "3.10.9"
  }
 },
 "nbformat": 4,
 "nbformat_minor": 2
}
